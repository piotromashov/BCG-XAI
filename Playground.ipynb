{
 "cells": [
  {
   "cell_type": "markdown",
   "id": "8ab8c963",
   "metadata": {},
   "source": [
    "# Playground"
   ]
  },
  {
   "cell_type": "markdown",
   "id": "ddc027c1",
   "metadata": {},
   "source": [
    "Create model persistence"
   ]
  },
  {
   "cell_type": "code",
   "execution_count": 4,
   "id": "f9b73de4",
   "metadata": {},
   "outputs": [],
   "source": [
    "from sklearn import svm\n",
    "from sklearn import datasets"
   ]
  },
  {
   "cell_type": "code",
   "execution_count": 6,
   "id": "5f83e47c",
   "metadata": {},
   "outputs": [
    {
     "data": {
      "text/plain": [
       "SVC()"
      ]
     },
     "execution_count": 6,
     "metadata": {},
     "output_type": "execute_result"
    }
   ],
   "source": [
    "clf = svm.SVC()\n",
    "X, y= datasets.load_iris(return_X_y=True)\n",
    "clf.fit(X, y)"
   ]
  },
  {
   "cell_type": "markdown",
   "id": "3b1ec937",
   "metadata": {},
   "source": [
    "Picke and unpickle converts python object into a byte stream and the other way around"
   ]
  },
  {
   "cell_type": "code",
   "execution_count": 10,
   "id": "e949aea8",
   "metadata": {},
   "outputs": [
    {
     "data": {
      "text/plain": [
       "array([0])"
      ]
     },
     "execution_count": 10,
     "metadata": {},
     "output_type": "execute_result"
    }
   ],
   "source": [
    "import pickle\n",
    "s = pickle.dumps(clf)\n",
    "clf2 = pickle.loads(s)\n",
    "clf2.predict(X[0:1])"
   ]
  },
  {
   "cell_type": "markdown",
   "id": "954e6b8e",
   "metadata": {},
   "source": [
    "Dump model into a file on diskand load it back"
   ]
  },
  {
   "cell_type": "code",
   "execution_count": 14,
   "id": "44e3e0a3",
   "metadata": {},
   "outputs": [
    {
     "data": {
      "text/plain": [
       "array([0])"
      ]
     },
     "execution_count": 14,
     "metadata": {},
     "output_type": "execute_result"
    }
   ],
   "source": [
    "from joblib import dump, load\n",
    "dump(clf, 'model.joblib') \n",
    "\n",
    "clf = load('model.joblib') \n",
    "clf.predict(X[0:1])"
   ]
  },
  {
   "cell_type": "markdown",
   "id": "451b1056",
   "metadata": {},
   "source": [
    "Load dataset from OpenML directly using scikitlearn"
   ]
  },
  {
   "cell_type": "code",
   "execution_count": 21,
   "id": "11f60cdf",
   "metadata": {},
   "outputs": [
    {
     "data": {
      "text/plain": [
       "{'id': '37',\n",
       " 'name': 'diabetes',\n",
       " 'version': '1',\n",
       " 'description_version': '1',\n",
       " 'format': 'ARFF',\n",
       " 'creator': 'Peter D. Turney',\n",
       " 'collection_date': '1995-03-01',\n",
       " 'upload_date': '2014-04-06T23:22:13',\n",
       " 'language': 'English',\n",
       " 'licence': 'Public',\n",
       " 'url': 'https://www.openml.org/data/v1/download/37/diabetes.arff',\n",
       " 'file_id': '37',\n",
       " 'default_target_attribute': 'class',\n",
       " 'version_label': '1',\n",
       " 'citation': 'https://www.jair.org/index.php/jair/article/view/10129',\n",
       " 'tag': ['mythbusting_1',\n",
       "  'OpenML-CC18',\n",
       "  'OpenML100',\n",
       "  'study_1',\n",
       "  'study_123',\n",
       "  'study_135',\n",
       "  'study_14',\n",
       "  'study_15',\n",
       "  'study_20',\n",
       "  'study_29',\n",
       "  'study_30',\n",
       "  'study_34',\n",
       "  'study_37',\n",
       "  'study_41',\n",
       "  'study_52',\n",
       "  'study_7',\n",
       "  'study_70',\n",
       "  'study_98',\n",
       "  'study_99',\n",
       "  'uci'],\n",
       " 'visibility': 'public',\n",
       " 'original_data_url': 'https://archive.ics.uci.edu/ml/datasets/pima+indians+diabetes',\n",
       " 'paper_url': 'https://www.jair.org/index.php/jair/article/view/10129',\n",
       " 'status': 'active',\n",
       " 'processing_date': '2020-11-20 18:49:43',\n",
       " 'md5_checksum': '3cbaa3e54586aa88cf6aacb4033e4470'}"
      ]
     },
     "execution_count": 21,
     "metadata": {},
     "output_type": "execute_result"
    }
   ],
   "source": [
    "from sklearn.datasets import fetch_openml\n",
    "mice = fetch_openml(name='miceprotein', version=4)\n",
    "mice.data.shape\n",
    "\n",
    "diabetes = fetch_openml(name='diabetes', version=1)\n",
    "diabetes.details"
   ]
  }
 ],
 "metadata": {
  "kernelspec": {
   "display_name": "Python 3",
   "language": "python",
   "name": "python3"
  },
  "language_info": {
   "codemirror_mode": {
    "name": "ipython",
    "version": 3
   },
   "file_extension": ".py",
   "mimetype": "text/x-python",
   "name": "python",
   "nbconvert_exporter": "python",
   "pygments_lexer": "ipython3",
   "version": "3.8.8"
  }
 },
 "nbformat": 4,
 "nbformat_minor": 5
}
